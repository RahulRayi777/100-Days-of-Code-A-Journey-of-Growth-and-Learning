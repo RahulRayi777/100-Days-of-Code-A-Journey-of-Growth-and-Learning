{
  "cells": [
    {
      "cell_type": "markdown",
      "metadata": {
        "id": "4GtRwPajWtgH"
      },
      "source": [
        "# <center><u> Python-Intermediate </u></center>\n"
      ]
    },
    {
      "cell_type": "markdown",
      "metadata": {
        "id": "hBV6jA72WtgM"
      },
      "source": [
        "1.Lets remove duplicates from list names=['A','B','C','A','D','E','F','G','H','E','D']\n",
        "\n"
      ]
    },
    {
      "cell_type": "code",
      "execution_count": null,
      "metadata": {
        "id": "A32nJBGHWtgN",
        "outputId": "aa0c5b80-dfea-4f12-94ea-93a35231c145",
        "colab": {
          "base_uri": "https://localhost:8080/",
          "height": 36
        }
      },
      "outputs": [
        {
          "output_type": "execute_result",
          "data": {
            "text/plain": [
              "\"\\na=['A','B','C','A','D','E','F','G','H','E','D']\\nc=[]\\nb=[c.append(i) for i in a if i not in c]\\nprint(c)\\n\""
            ],
            "application/vnd.google.colaboratory.intrinsic+json": {
              "type": "string"
            }
          },
          "metadata": {},
          "execution_count": 2
        }
      ],
      "source": [
        "#code here\n",
        "'''\n",
        "a=['A','B','C','A','D','E','F','G','H','E','D']\n",
        "b=set(a)\n",
        "c=list(b)\n",
        "c.sort()\n",
        "print(c)\n",
        "'''\n",
        "'''\n",
        "a=['A','B','C','A','D','E','F','G','H','E','D']\n",
        "b=[]\n",
        "for i in a:\n",
        "  if i not in b:\n",
        "    b.append(i)\n",
        "print(b)\n",
        "'''\n",
        "'''\n",
        "a=['A','B','C','A','D','E','F','G','H','E','D']\n",
        "b=dict.fromkeys(a)\n",
        "c=list(b)\n",
        "print(c)\n",
        "'''\n",
        "'''\n",
        "a=['A','B','C','A','D','E','F','G','H','E','D']\n",
        "c=[]\n",
        "b=[c.append(i) for i in a if i not in c]\n",
        "print(c)\n",
        "'''"
      ]
    },
    {
      "cell_type": "markdown",
      "metadata": {
        "id": "3vs-MwqhWtgO"
      },
      "source": [
        "2. Good! Shall we try solving above problem in shhorter way using list comprehention? It will be amazing. Here we go!\n"
      ]
    },
    {
      "cell_type": "code",
      "execution_count": null,
      "metadata": {
        "id": "ngy_ypU2WtgP",
        "outputId": "9b733147-77e3-4fab-92a8-18cd9fa9ec5d",
        "colab": {
          "base_uri": "https://localhost:8080/"
        }
      },
      "outputs": [
        {
          "output_type": "stream",
          "name": "stdout",
          "text": [
            "['A', 'B', 'C', 'D', 'E', 'F', 'G', 'H']\n"
          ]
        }
      ],
      "source": [
        "#code here\n",
        "a=['A','B','C','A','D','E','F','G','H','E','D']\n",
        "c=[]\n",
        "b=[c.append(i) for i in a if i not in c]\n",
        "print(c)\n"
      ]
    },
    {
      "cell_type": "markdown",
      "metadata": {
        "id": "kuBGT9n5WtgP"
      },
      "source": [
        "3. define a funtion 'occurence' which takes 2 inputs, one list 'lst' and another one a number 'n' and count the number of occurrences of n in your list lst."
      ]
    },
    {
      "cell_type": "code",
      "execution_count": null,
      "metadata": {
        "id": "W8SL5qfUWtgQ",
        "outputId": "0bcb2b39-0ab7-4def-94b6-5c0c46ef926a",
        "colab": {
          "base_uri": "https://localhost:8080/",
          "height": 36
        }
      },
      "outputs": [
        {
          "output_type": "execute_result",
          "data": {
            "text/plain": [
              "'\\n\\ndef occurence(a,b):\\n  c=0\\n  for i in a:\\n    if b==i:\\n      c=c+1\\n  return(c)\\n  '"
            ],
            "application/vnd.google.colaboratory.intrinsic+json": {
              "type": "string"
            }
          },
          "metadata": {},
          "execution_count": 4
        }
      ],
      "source": [
        "#your code\n",
        "'''def occurence(a,b):\n",
        "  c=tuple(a)\n",
        "  d=c.count(b)\n",
        "  return d\n",
        "#lets use your function\n",
        "occurence([2,3,4,8,1,3,5,2,1,3,1,2,2], 2)'''\n",
        "\n",
        "'''\n",
        "\n",
        "def occurence(a,b):\n",
        "  c=0\n",
        "  for i in a:\n",
        "    if b==i:\n",
        "      c=c+1\n",
        "  return(c)\n",
        "  '''\n",
        "\n",
        "#lets use your function\n",
        "#occurence([2,3,4,8,1,3,5,2,1,3,1,2,2], 2)"
      ]
    },
    {
      "cell_type": "markdown",
      "metadata": {
        "id": "vzaaHEIwWtgQ"
      },
      "source": [
        "4. Calculate factorial of a number ( Here number=3) using while loop"
      ]
    },
    {
      "cell_type": "code",
      "execution_count": null,
      "metadata": {
        "id": "3zjPibDmWtgR",
        "outputId": "ae868fbd-b1d8-497e-aced-0c742bf8bce6",
        "colab": {
          "base_uri": "https://localhost:8080/",
          "height": 36
        }
      },
      "outputs": [
        {
          "output_type": "execute_result",
          "data": {
            "text/plain": [
              "'n=8\\na=1\\nwhile n>0:\\n  a=a*n\\n  n=n-1\\nprint(a)'"
            ],
            "application/vnd.google.colaboratory.intrinsic+json": {
              "type": "string"
            }
          },
          "metadata": {},
          "execution_count": 5
        }
      ],
      "source": [
        "'''n= 8\n",
        "a=1\n",
        "#code here\n",
        "for i in range(n,0,-1):\n",
        "  a=a*i\n",
        "print(a)'''\n",
        "\n",
        "'''n=8\n",
        "a=1\n",
        "while n>0:\n",
        "  a=a*n\n",
        "  n=n-1\n",
        "print(a)'''\n",
        "\n",
        "\n"
      ]
    },
    {
      "cell_type": "markdown",
      "metadata": {
        "id": "8d4D4cJpWtgR"
      },
      "source": [
        "5. Reverse a given integer number num = 47594038222 and display the count of\n",
        "\n",
        "*   List item\n",
        "*   List item\n",
        "\n",
        "total number of digits in your revered number using while loop."
      ]
    },
    {
      "cell_type": "code",
      "execution_count": null,
      "metadata": {
        "id": "L5Vs4xTtWtgR",
        "outputId": "4167d2c8-82a7-4132-919c-4d86331ab0ad",
        "colab": {
          "base_uri": "https://localhost:8080/",
          "height": 36
        }
      },
      "outputs": [
        {
          "output_type": "execute_result",
          "data": {
            "text/plain": [
              "\"\\nn = 47594038222\\na=''\\ns=str(n)\\nprint(s[::-1])\\n\""
            ],
            "application/vnd.google.colaboratory.intrinsic+json": {
              "type": "string"
            }
          },
          "metadata": {},
          "execution_count": 6
        }
      ],
      "source": [
        "#code here\n",
        "'''\n",
        "n = 47594038222\n",
        "a=''\n",
        "s=str(n)\n",
        "for i in s:\n",
        "  a=i+a\n",
        "print(a,end='')\n",
        "'''\n",
        "\n",
        "'''\n",
        "n = 47594038222\n",
        "r=0\n",
        "while (n>0):\n",
        "  a=n%10\n",
        "  r=r*10+a\n",
        "  n=n//10\n",
        "print(r)\n",
        "'''\n",
        "\n",
        "'''\n",
        "n = 47594038222\n",
        "a=''\n",
        "s=str(n)\n",
        "print(s[::-1])\n",
        "'''\n"
      ]
    },
    {
      "cell_type": "markdown",
      "metadata": {
        "id": "9qtxFvU2WtgR"
      },
      "source": [
        "6. Can you reverse you given num without using loop in just one line?\n",
        "\n",
        "Hint: apply some slicing trick to do it."
      ]
    },
    {
      "cell_type": "code",
      "execution_count": null,
      "metadata": {
        "id": "p1eS62ecWtgS",
        "outputId": "b0b7d988-7db0-407c-fc89-e3d8849a14d5",
        "colab": {
          "base_uri": "https://localhost:8080/"
        }
      },
      "outputs": [
        {
          "output_type": "stream",
          "name": "stdout",
          "text": [
            "22283049574\n"
          ]
        }
      ],
      "source": [
        "num = 47594038222\n",
        "\n",
        "#one line code here\n",
        "print(int(str(num)[::-1]))\n",
        "\n"
      ]
    },
    {
      "cell_type": "code",
      "source": [
        "l=[1,2,3,4]\n",
        "l[:2]"
      ],
      "metadata": {
        "colab": {
          "base_uri": "https://localhost:8080/"
        },
        "id": "ck6lHcT3wolX",
        "outputId": "c2167ac5-ac77-44c7-8957-5ca641e762c1"
      },
      "execution_count": null,
      "outputs": [
        {
          "output_type": "execute_result",
          "data": {
            "text/plain": [
              "[1, 2]"
            ]
          },
          "metadata": {},
          "execution_count": 17
        }
      ]
    },
    {
      "cell_type": "markdown",
      "metadata": {
        "id": "hurM8KcSWtgS"
      },
      "source": [
        "7. Write a function that checks whether a given sequence of number is IP address or not and print all valid possible IP from a given digit. If not an IP then it prints empty list\n",
        "\n",
        "**Note:** According to Wikipedia, IPv4 addresses are canonically represented in dot-decimal notation, which consists of four decimal numbers, each ranging from 0 to 255, separated by dots, e.g., 172.16.254.1"
      ]
    },
    {
      "cell_type": "markdown",
      "metadata": {
        "id": "6vngA60DWtgT"
      },
      "source": [
        "9. Write a program to Remove Punctuations From a String\n",
        "\n",
        "s=\"Wow!!!, we are going ahead with our course to learn *machine learning* ---are'nt you excited? :)\""
      ]
    },
    {
      "cell_type": "code",
      "execution_count": null,
      "metadata": {
        "id": "gvQfy5kQWtgT",
        "colab": {
          "base_uri": "https://localhost:8080/"
        },
        "outputId": "5d30a8b6-e4f8-4be1-967c-031761a1c58b"
      },
      "outputs": [
        {
          "output_type": "stream",
          "name": "stdout",
          "text": [
            "rahul how are u bro i am very  lonely without uu keep going"
          ]
        }
      ],
      "source": [
        "# code here\n",
        "a='rahul!@# how are u bro*** i am very @@ lonely :withoUT UU KeEP Going'\n",
        "b=\"!@#$%^&*()_+{}:<>?\"\n",
        "for i in a:\n",
        "    if i in b:\n",
        "        a=a.replace(i,\"\")\n",
        "for i in a:\n",
        "    print(i.lower(),end='')\n",
        "\n",
        "\n",
        "\n",
        "\n"
      ]
    },
    {
      "cell_type": "markdown",
      "metadata": {
        "id": "aCJgsvWKWtgU"
      },
      "source": [
        "10. Write a program which takes 2 digits, X,Y as input and generates a\n",
        "\n",
        "*   List item\n",
        "*   List item\n",
        "\n",
        "2-dimensional array. The element value in the i-th row and j-th column of the array should be i*j.\n",
        "\n",
        "Note: i=0,1.., X-1; j=0,1,i^Y-1."
      ]
    },
    {
      "cell_type": "code",
      "execution_count": null,
      "metadata": {
        "id": "BAh26WXlWtgU",
        "colab": {
          "base_uri": "https://localhost:8080/"
        },
        "outputId": "9db7e284-0daf-414f-b97c-7a1a62919d91"
      },
      "outputs": [
        {
          "output_type": "stream",
          "name": "stdout",
          "text": [
            "[[0, 0, 0, 0], [0, 1, 2, 3], [0, 2, 4, 6]]\n"
          ]
        }
      ],
      "source": [
        "a=3\n",
        "b=4\n",
        "m=[[0 for i in range(b)]for j in range(a)]\n",
        "#print(m)\n",
        "for i in range(a):\n",
        "    for j in range(b):\n",
        "        m[i][j]=i*j\n",
        "print(m)\n",
        "\n",
        "\n",
        "\n",
        "#code here\n",
        "\n",
        "\n",
        "\n",
        "\n"
      ]
    },
    {
      "cell_type": "markdown",
      "metadata": {
        "id": "tElaaNPNWtgV"
      },
      "source": [
        "12. Given a binary string S , the task is to find the smallest string possible by removing all occurrences of substrings “01” and “11”. After removal of any substring, concatenate the remaining parts of the string.\n",
        "\n",
        "Example\n",
        "    \n",
        "    Input: S = “0010110”\n",
        "    Output: String = 0\n",
        "    \n",
        "    Explanation: String can be transformed by the following steps:\n",
        "    0010110 → 00110 → 010 → 0.\n",
        "    Since no occurrence of substrings 01 and 11 are remaining, the string “0” is of minimum possible length 1."
      ]
    },
    {
      "cell_type": "code",
      "execution_count": null,
      "metadata": {
        "id": "i9OIbWhoWtgV"
      },
      "outputs": [],
      "source": [
        "#code here\n",
        "\n",
        "\n",
        "\n",
        "\n",
        "#check code here\n",
        "\n",
        "s=\"0010110\"\n",
        "\n",
        "\n",
        "\n"
      ]
    },
    {
      "cell_type": "code",
      "source": [
        "s=\"0010110\"\n",
        "b=len(s)\n",
        "while len(s)>=2:\n",
        "    for i in range(b):\n",
        "        if (s[i:i+2]==\"01\")|(s[i:i+2]==\"11\"):\n",
        "            s=s.replace(s[i:i+2],\"\")\n",
        "print(s)\n"
      ],
      "metadata": {
        "colab": {
          "base_uri": "https://localhost:8080/"
        },
        "id": "wFmwlS83ELbi",
        "outputId": "7f3927a9-b951-4e32-ac85-ffbbfb7801ec"
      },
      "execution_count": null,
      "outputs": [
        {
          "output_type": "stream",
          "name": "stdout",
          "text": [
            "0\n"
          ]
        }
      ]
    },
    {
      "cell_type": "markdown",
      "metadata": {
        "id": "BYeCBfFUWtgV"
      },
      "source": [
        "13. Write a function such that it accepts two integers n, m as arguments Find the sum of all numbers in range from 1 to m(both inclusive) that are not divisible by n. Return difference between sum of integers not divisible by n with sum of numbers divisible by n\n",
        "\n",
        "Example\n",
        "\n",
        "    Input\n",
        "    n:4\n",
        "    m:20\n",
        "    Output\n",
        "    90"
      ]
    },
    {
      "cell_type": "code",
      "execution_count": null,
      "metadata": {
        "id": "KgO9ShzPWtgV",
        "colab": {
          "base_uri": "https://localhost:8080/"
        },
        "outputId": "5bb931bf-d4ac-41cf-8765-fcc61bc0102e"
      },
      "outputs": [
        {
          "output_type": "stream",
          "name": "stdout",
          "text": [
            "4\n",
            "20\n",
            "90\n"
          ]
        }
      ],
      "source": [
        "#code here\n",
        "\n",
        "def ne_dv(n,m):\n",
        "    d=0\n",
        "    nd=0\n",
        "    for i in range(1,m+1):\n",
        "        if i%4==0:\n",
        "            d=d+i\n",
        "        else:\n",
        "            nd=nd+i\n",
        "    x=nd-d\n",
        "    print(x)\n",
        "\n",
        "n=int(input())\n",
        "m=int(input())\n",
        "ne_dv(n,m)\n",
        "\n",
        "\n"
      ]
    },
    {
      "cell_type": "markdown",
      "metadata": {
        "id": "GMjx2bfxWtgW"
      },
      "source": [
        "214. Write a function count_code that return the number of times that the string \"code\" appears anywhere in the given string, except we'll accept any letter for the 'd', so \"cope\" and \"cooe\" count.\n",
        "\n",
        "\n",
        "    count_code('aaacodebbb') → 1\n",
        "    count_code('codexxcode') → 2\n",
        "    count_code('cozexxcope') → 2"
      ]
    },
    {
      "cell_type": "code",
      "execution_count": null,
      "metadata": {
        "id": "7G1E7BewWtgW",
        "colab": {
          "base_uri": "https://localhost:8080/"
        },
        "outputId": "dcab8b58-9cfb-4f29-fd26-d6fe84e1e903"
      },
      "outputs": [
        {
          "output_type": "stream",
          "name": "stdout",
          "text": [
            "1\n",
            "2\n",
            "2\n"
          ]
        }
      ],
      "source": [
        "#code here\n",
        "'''\n",
        "def count_code(s,ss):\n",
        "    a=0\n",
        "    for  i in range(len(s)):\n",
        "        if s[i:i+4]==ss:\n",
        "            a=a+1\n",
        "    print(a)\n",
        "\n",
        "s=\"aaacodebbbcode\"\n",
        "ss=\"code\"\n",
        "count_code(s,ss)'''\n",
        "\n",
        "def count_code(s):\n",
        "    a=0\n",
        "    l=\"abcdefghijklmnopqrstuvwxyz\"\n",
        "    for  i in l:\n",
        "        a=a+(s.count(\"co\" + i +\"e\"))\n",
        "    return(a)\n",
        "\n",
        "s=\"aaacodebbbcode\"\n",
        "count_code(s)\n",
        "\n",
        "\n",
        "\n",
        "\n",
        "#check your code\n",
        "print(count_code('aaacodebbb'))\n",
        "print(count_code('codexxcode'))\n",
        "print(count_code('cozexxcope'))\n"
      ]
    },
    {
      "cell_type": "markdown",
      "metadata": {
        "id": "wqFNSGkCWtgW"
      },
      "source": [
        "15. Lets have one moderate level question for you.\n",
        "\n",
        "Find the sum of the series 4 +44 + 444 + 4444 + .. n terms\n",
        "\n",
        "here keep n=5"
      ]
    },
    {
      "cell_type": "code",
      "execution_count": null,
      "metadata": {
        "id": "U4qRCUQFWtgW"
      },
      "outputs": [],
      "source": [
        "#code here\n",
        "\n",
        "  3\n",
        "\n"
      ]
    },
    {
      "cell_type": "markdown",
      "metadata": {
        "id": "XH_ocrNWWtgY"
      },
      "source": [
        "16. Assume s is a string of lower case characters.\n",
        "<br>\n",
        "Write a program that counts up the number of vowels contained in the string s. Valid vowels are: 'a', 'e', 'i', 'o', and 'u'. For example, if s = 'azcbobobegghakl', your program should print:<br>\n",
        "```Number of vowels: 5```"
      ]
    },
    {
      "cell_type": "code",
      "execution_count": null,
      "metadata": {
        "id": "7uCQTExKWtgY",
        "colab": {
          "base_uri": "https://localhost:8080/"
        },
        "outputId": "8159fcbc-f2bb-4a79-fc8f-e08d0a3cfa05"
      },
      "outputs": [
        {
          "output_type": "stream",
          "name": "stdout",
          "text": [
            "\"azcbobobegghakl\"\n",
            "5\n"
          ]
        }
      ],
      "source": [
        "#code here\n",
        "\n",
        "def vowels(c):\n",
        "    b=['a', 'e', 'i', 'o',\"u\"]\n",
        "    s=0\n",
        "    for i in c:\n",
        "       if i in b:\n",
        "           s=s+1\n",
        "    return(s)\n",
        "c=input()\n",
        "print(vowels(c))\n",
        "\n",
        "\n",
        "\n",
        "\n"
      ]
    },
    {
      "cell_type": "markdown",
      "metadata": {
        "id": "8p3Ruyw6Wtgc"
      },
      "source": [
        "\n",
        "\n",
        "----------------------------------------------------------------------"
      ]
    }
  ],
  "metadata": {
    "kernelspec": {
      "display_name": "Python 3",
      "language": "python",
      "name": "python3"
    },
    "language_info": {
      "codemirror_mode": {
        "name": "ipython",
        "version": 3
      },
      "file_extension": ".py",
      "mimetype": "text/x-python",
      "name": "python",
      "nbconvert_exporter": "python",
      "pygments_lexer": "ipython3",
      "version": "3.8.5"
    },
    "colab": {
      "provenance": []
    }
  },
  "nbformat": 4,
  "nbformat_minor": 0
}